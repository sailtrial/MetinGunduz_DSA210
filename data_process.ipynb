{
  "nbformat": 4,
  "nbformat_minor": 0,
  "metadata": {
    "colab": {
      "provenance": []
    },
    "kernelspec": {
      "name": "python3",
      "display_name": "Python 3"
    },
    "language_info": {
      "name": "python"
    }
  },
  "cells": [
    {
      "cell_type": "code",
      "execution_count": 6,
      "metadata": {
        "colab": {
          "base_uri": "https://localhost:8080/"
        },
        "id": "Sj0-EhACYRM-",
        "outputId": "ce39d597-8f74-4ca7-d9c1-b0a35202b9c6"
      },
      "outputs": [
        {
          "output_type": "stream",
          "name": "stdout",
          "text": [
            "Drive already mounted at /content/drive; to attempt to forcibly remount, call drive.mount(\"/content/drive\", force_remount=True).\n",
            "✔️ Kaydedildi: /content/drive/MyDrive/ReactionTime_Data.csv\n",
            "✔️ Kaydedildi: /content/drive/MyDrive/Num_of_Notifications_Data.csv\n",
            "✔️ Kaydedildi: /content/drive/MyDrive/Mood_Data.csv\n",
            "✔️ Kaydedildi: /content/drive/MyDrive/ErrorRate_Data.csv\n",
            "✔️ Kaydedildi: /content/drive/MyDrive/Caffeine(mg)_Data.csv\n"
          ]
        }
      ],
      "source": [
        "\n",
        "from google.colab import drive\n",
        "drive.mount('/content/drive')\n",
        "\n",
        "import os\n",
        "import pandas as pd\n",
        "\n",
        "\n",
        "json_folder = '/content/drive/MyDrive/JSON_Files'\n",
        "\n",
        "csv_folder  = '/content/drive/MyDrive/CSV_Files'\n",
        "\n",
        "\n",
        "os.makedirs(csv_folder, exist_ok=True)\n",
        "\n",
        "\n",
        "json_files = [\n",
        "    '/content/drive/MyDrive/ReactionTime_Data.json',\n",
        "    '/content/drive/MyDrive/Num_of_Notifications_Data.json',\n",
        "    '/content/drive/MyDrive/Mood_Data.json',\n",
        "    '/content/drive/MyDrive/ErrorRate_Data.json',\n",
        "    '/content/drive/MyDrive/Caffeine(mg)_Data.json'\n",
        "]\n",
        "\n",
        "for fname in json_files:\n",
        "    json_path = os.path.join(json_folder, fname)\n",
        "    if not os.path.isfile(json_path):\n",
        "        print(f'⚠️ Bulunamadı: {json_path}')\n",
        "        continue\n",
        "\n",
        "\n",
        "    csv_name = fname.replace('.json', '.csv')\n",
        "    out_path = os.path.join(csv_folder, csv_name)\n",
        "\n",
        "\n",
        "    df = pd.read_json(json_path, orient='records')\n",
        "    df.to_csv(out_path, index=False)\n",
        "    print(f'✔️ Kaydedildi: {out_path}')\n"
      ]
    }
  ]
}