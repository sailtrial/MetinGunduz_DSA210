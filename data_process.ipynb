{
  "nbformat": 4,
  "nbformat_minor": 0,
  "metadata": {
    "colab": {
      "provenance": []
    },
    "kernelspec": {
      "name": "python3",
      "display_name": "Python 3"
    },
    "language_info": {
      "name": "python"
    }
  },
  "cells": [
    {
      "cell_type": "markdown",
      "source": [
        "# Data Processing\n",
        "\n",
        "This notebook converts all `.xlsx` files in the `data/` folder into `.csv` files in the same folder.\n"
      ],
      "metadata": {
        "id": "gThTA0FHni8b"
      }
    },
    {
      "cell_type": "code",
      "execution_count": 15,
      "metadata": {
        "colab": {
          "base_uri": "https://localhost:8080/"
        },
        "id": "Sj0-EhACYRM-",
        "outputId": "54851b4b-ce61-416a-c326-6f6e4dba7c69"
      },
      "outputs": [
        {
          "output_type": "stream",
          "name": "stdout",
          "text": [
            "Drive already mounted at /content/drive; to attempt to forcibly remount, call drive.mount(\"/content/drive\", force_remount=True).\n",
            "✔️ Kaydedildi: /content/drive/MyDrive/ReactionTime_Data.csv\n",
            "✔️ Kaydedildi: /content/drive/MyDrive/Num_of_Notifications_Data.csv\n",
            "✔️ Kaydedildi: /content/drive/MyDrive/Mood_Data.csv\n",
            "✔️ Kaydedildi: /content/drive/MyDrive/ErrorRate_Data.csv\n",
            "✔️ Kaydedildi: /content/drive/MyDrive/Caffeine(mg)_Data.csv\n"
          ]
        }
      ],
      "source": [
        "\n",
        "from google.colab import drive\n",
        "drive.mount('/content/drive')\n",
        "\n",
        "import os\n",
        "import pandas as pd\n",
        "\n",
        "\n",
        "json_folder = '/content/drive/MyDrive/JSON_Files'\n",
        "\n",
        "csv_folder  = '/content/drive/MyDrive/CSV_Files'\n",
        "\n",
        "\n",
        "os.makedirs(csv_folder, exist_ok=True)\n",
        "\n",
        "\n",
        "json_files = [\n",
        "    '/content/drive/MyDrive/ReactionTime_Data.json',\n",
        "    '/content/drive/MyDrive/Num_of_Notifications_Data.json',\n",
        "    '/content/drive/MyDrive/Mood_Data.json',\n",
        "    '/content/drive/MyDrive/ErrorRate_Data.json',\n",
        "    '/content/drive/MyDrive/Caffeine(mg)_Data.json'\n",
        "]\n",
        "\n",
        "for fname in json_files:\n",
        "    json_path = os.path.join(json_folder, fname)\n",
        "    if not os.path.isfile(json_path):\n",
        "        print(f'⚠️ Bulunamadı: {json_path}')\n",
        "        continue\n",
        "\n",
        "\n",
        "    csv_name = fname.replace('.json', '.csv')\n",
        "    out_path = os.path.join(csv_folder, csv_name)\n",
        "\n",
        "\n",
        "    df = pd.read_json(json_path, orient='records')\n",
        "    df.to_csv(out_path, index=False)\n",
        "    print(f'✔️ Kaydedildi: {out_path}')\n"
      ]
    },
    {
      "cell_type": "code",
      "source": [
        "\n",
        "from google.colab import drive\n",
        "drive.mount('/content/drive')\n",
        "\n",
        "import pandas as pd\n",
        "import os\n",
        "\n",
        "\n",
        "csv_folder = '/content/drive/MyDrive/csv_folder'\n",
        "\n",
        "\n",
        "file_names = [\n",
        "    '/content/drive/MyDrive/csv_folder/Num_of_Notifications_Data.csv',\n",
        "    '/content/drive/MyDrive/csv_folder/ErrorRate_Data.csv',\n",
        "    '/content/drive/MyDrive/csv_folder/ReactionTime_Data.csv',\n",
        "    '/content/drive/MyDrive/csv_folder/Mood_Data.csv',\n",
        "    '/content/drive/MyDrive/csv_folder/Caffeine(mg)_Data.csv'\n",
        "]\n",
        "\n",
        "# Build full paths and load each CSV into a DataFrame\n",
        "dataframes = []\n",
        "for fname in file_names:\n",
        "    path = os.path.join(csv_folder, fname)\n",
        "    df = pd.read_csv(path)\n",
        "    dataframes.append(df)\n",
        "\n",
        "# Merge all DataFrames\n",
        "from functools import reduce\n",
        "merged = reduce(lambda left, right: pd.merge(left, right, on='Date'), dataframes)\n",
        "\n",
        "# Reorder columns\n",
        "merged = merged[['Date',\n",
        "                 'Notifications',\n",
        "                 'Error Rate (%)',\n",
        "                 'Reaction Time (ms)',\n",
        "                 'Mood (1–5)',\n",
        "                 'Caffeine (mg)']]\n",
        "\n",
        "# 7) Save to Drive as CSV\n",
        "output_path = os.path.join(csv_folder, 'combined_data.csv')\n",
        "merged.to_csv(output_path, index=False)\n",
        "print('Combined CSV saved to:', output_path)\n"
      ],
      "metadata": {
        "colab": {
          "base_uri": "https://localhost:8080/"
        },
        "id": "wD7ovnseb2Qt",
        "outputId": "60be9543-1124-469a-a150-9c0d9bedef03"
      },
      "execution_count": 13,
      "outputs": [
        {
          "output_type": "stream",
          "name": "stdout",
          "text": [
            "Drive already mounted at /content/drive; to attempt to forcibly remount, call drive.mount(\"/content/drive\", force_remount=True).\n",
            "Combined CSV saved to: /content/drive/MyDrive/csv_folder/combined_data.csv\n"
          ]
        }
      ]
    },
    {
      "cell_type": "code",
      "source": [],
      "metadata": {
        "id": "QqWWetMucyd_"
      },
      "execution_count": null,
      "outputs": []
    }
  ]
}